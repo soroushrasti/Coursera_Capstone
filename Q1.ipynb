{
 "cells": [
  {
   "cell_type": "markdown",
   "metadata": {},
   "source": [
    "importing library"
   ]
  },
  {
   "cell_type": "code",
   "execution_count": 1,
   "metadata": {},
   "outputs": [],
   "source": [
    "import pandas as pd\n",
    "import csv\n",
    "from bs4 import BeautifulSoup\n",
    "import requests"
   ]
  },
  {
   "cell_type": "markdown",
   "metadata": {},
   "source": [
    "Make a GET request to fetch the raw HTML content\n"
   ]
  },
  {
   "cell_type": "code",
   "execution_count": 75,
   "metadata": {},
   "outputs": [
    {
     "name": "stdout",
     "output_type": "stream",
     "text": [
      "288\n"
     ]
    }
   ],
   "source": [
    "url = \"https://en.wikipedia.org/wiki/List_of_postal_codes_of_Canada:_M\"\n",
    "html_content = requests.get(url).text\n",
    "\n",
    "\n",
    "# Step 2: Parse the html content\n",
    "soup = BeautifulSoup(html_content)\n",
    "#print(soup.prettify()) # print the parsed data of html\n",
    "\n",
    "\n",
    "\n",
    "#Get the table having the class wikitable\n",
    "table = soup.find(\"table\", attrs={\"class\": \"wikitable\"})\n",
    "table_data = table.tbody.find_all(\"tr\")  # contains 2 rows\n",
    "print ( len(table_data))\n",
    "\n",
    "\n",
    "\n",
    "\n"
   ]
  },
  {
   "cell_type": "markdown",
   "metadata": {},
   "source": [
    "putiting to data frame"
   ]
  },
  {
   "cell_type": "code",
   "execution_count": 98,
   "metadata": {},
   "outputs": [],
   "source": [
    "# Get all the headings \n",
    "headings = []\n",
    "for th in table_data[0].find_all(\"th\"):\n",
    "    headings.append(th.text)\n",
    "\n",
    "#tranforming to dictionary \n",
    "data={}\n",
    "for i in range(1,len(table_data)): \n",
    "    content=[]\n",
    "    for td in table_data[i].find_all(\"td\"):\n",
    "        content.append(td.text)\n",
    "    data.setdefault(headings[0],[]).append(content[0])\n",
    "    data.setdefault(headings[1],[]).append(content[1])\n",
    "    data.setdefault(headings[2],[]).append(content[2])\n",
    "\n",
    "# \n",
    "data=pd.DataFrame.from_dict(data)\n",
    "# remove /n\n",
    "data = data.replace('\\n',' ', regex=True)\n",
    "\n",
    "# delete rows with 'Not assigned' in the 'Borough' coloumn\n",
    "indexNames = data[ data['Borough'] == 'Not assigned' ].index\n",
    "data.drop(indexNames , inplace=True)\n",
    "\n",
    "# repalce if Neighbourhood has 'Not assigned'\n",
    "indexNames = data[ data['Neighbourhood\\n'].str.strip() == 'Not assigned' ].index\n",
    "data['Neighbourhood\\n'][indexNames]=data['Borough'][indexNames]\n",
    "#\n",
    "\n",
    "\n"
   ]
  },
  {
   "cell_type": "markdown",
   "metadata": {},
   "source": [
    "combine two Neighbourhood with the same Postcode and Borough \n",
    "and make into separate columns"
   ]
  },
  {
   "cell_type": "code",
   "execution_count": 101,
   "metadata": {},
   "outputs": [
    {
     "data": {
      "text/plain": [
       "(103, 3)"
      ]
     },
     "execution_count": 101,
     "metadata": {},
     "output_type": "execute_result"
    }
   ],
   "source": [
    "\n",
    "data1=data.groupby(['Postcode','Borough'],as_index = True)['Neighbourhood\\n'].apply(lambda x: pd.Series(list(x))).unstack().reset_index()\n",
    "\n",
    "data1.columns=['Postcode','Borough','Neighbourhood1','Neighbourhood2','Neighbourhood3','Neighbourhood4','Neighbourhood5','Neighbourhood6','Neighbourhood7','Neighbourhood8']\n",
    "data1['Neighbourhoodall'] = data1[['Neighbourhood1', 'Neighbourhood2','Neighbourhood3','Neighbourhood4','Neighbourhood5','Neighbourhood6','Neighbourhood7','Neighbourhood8']].apply(lambda x: ','.join(x.fillna('').map(str)), axis=1)\n",
    "data1['Neighbourhoodall'] = data1['Neighbourhoodall'].str.strip(',')\n",
    "data1['Neighbourhoodall']\n",
    "datawithcomma = data1[['Postcode','Borough','Neighbourhoodall']].copy()\n",
    "datawithcomma.shape\n",
    "\n"
   ]
  },
  {
   "cell_type": "code",
   "execution_count": null,
   "metadata": {},
   "outputs": [],
   "source": [
    "\n"
   ]
  },
  {
   "cell_type": "code",
   "execution_count": null,
   "metadata": {},
   "outputs": [],
   "source": []
  }
 ],
 "metadata": {
  "kernelspec": {
   "display_name": "Python 2",
   "language": "python",
   "name": "python2"
  },
  "language_info": {
   "codemirror_mode": {
    "name": "ipython",
    "version": 2
   },
   "file_extension": ".py",
   "mimetype": "text/x-python",
   "name": "python",
   "nbconvert_exporter": "python",
   "pygments_lexer": "ipython2",
   "version": "2.7.16"
  }
 },
 "nbformat": 4,
 "nbformat_minor": 2
}
