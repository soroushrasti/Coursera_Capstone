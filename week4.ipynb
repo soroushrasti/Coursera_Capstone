{
 "cells": [
  {
   "cell_type": "markdown",
   "metadata": {},
   "source": [
    "# Which part of Toronto is more suitable for your opening a restaurant\n",
    "\n",
    "\n",
    "## Introduction\n",
    "\n",
    "Many people are liking to start their business smartly in a good place of such a big city like Toronto. But most of them failed to that simply because they do not have an accurate and detailed information about population, cultural decomposition and many other factors of this big city.\n",
    "\n",
    "People who  want to open a restaurant might also be reluctant to do because of all the competitions. This project will be a help for business owners who are planning to open a restaurant. The key problem in this project is which neighbourhood is suitable for a specific style restaurant that he/she going to open. To provide the best solution for this, several factors should be taken into account.\n",
    "\n",
    "1- Which neighbourhoods of Toronto, have the most that specific restaurants. This will guide the business owner which area has the higher competition and should be avoided.\n",
    "\n",
    "2- From the restaurants in each neighbourhood, which style they are. The will help the business owner to decide the best area for her/his restaurant. For example if he/she wants to open a Mexican restaurant, then it is better  to open it in a neighbourhood with fewer Mexican restaurants.\n",
    "\n",
    "3- What buildings are more in that neighbourhood? Are there a lot of commercial, educational or amusement places around? Areas with these types of places can help to attract more customers and making an ideal location.\n",
    "\n",
    "4- Culture of neighbourhood is also very important. Some places has a more Mexican population and culture which makes an important difference to open a Mexico resturant in that area or not\n",
    "\n",
    "By considering all of these factors the business owner should have some ideas that which area would be the most ideal a considering restaurant.\n",
    "\n",
    "The  audience of this report is who likes to open a restaurant in Toronto\n"
   ]
  },
  {
   "cell_type": "markdown",
   "metadata": {},
   "source": [
    "##  Description and Data\n",
    "\n",
    "\n",
    "At first I get a list of neighbourhoods in Toronto from the Wikipedia webpage: https://en.wikipedia.org/wiki/List_of_postal_codes_of_Canada:_M. \n",
    "Transforming this table to a data frame makes the analysis a lot easier.\n",
    "The Foursquare API was used to acquire number of venues belonging to each postal code and neighborhood of Toronto. In addition using the Foursquare API, I will get the location data, like latitudes and longitudes of each venue. Based on that I can easily show you the location of each venue on a map.\n",
    "\n",
    "After that, with the power of data analysis packages like Pandas, I will sort out the venue and restaurants lists and gave you some basics information about the frequency of each of them in the Toronto city. Interestingly, using that I will make the city into five zones based on the frequencies of each venue and restaurants category. \n",
    "The data sorted by restaurant type can show the prominent style in each neighbourhood. Information such as venue type and frequency of each venue was used to determine if the venues nearby are more likely to attract customers.\n",
    "Then you can very easily see how many percents of each venue belongs to which city zone and based on that you will understand frequency of each venue was used to determine which neighbourhood has a higher potential for attracting customers. This tremendously would help to decide wisely where you can start your restaurant. \n",
    "\n",
    "\n",
    "\n"
   ]
  },
  {
   "cell_type": "code",
   "execution_count": null,
   "metadata": {},
   "outputs": [],
   "source": []
  }
 ],
 "metadata": {
  "kernelspec": {
   "display_name": "Python 2",
   "language": "python",
   "name": "python2"
  },
  "language_info": {
   "codemirror_mode": {
    "name": "ipython",
    "version": 2
   },
   "file_extension": ".py",
   "mimetype": "text/x-python",
   "name": "python",
   "nbconvert_exporter": "python",
   "pygments_lexer": "ipython2",
   "version": "2.7.16"
  }
 },
 "nbformat": 4,
 "nbformat_minor": 2
}
