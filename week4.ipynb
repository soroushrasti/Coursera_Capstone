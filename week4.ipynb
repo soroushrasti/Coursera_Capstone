{
 "cells": [
  {
   "cell_type": "markdown",
   "metadata": {},
   "source": [
    "# Which part of Toronto is more suitable for your business\n",
    "\n",
    "\n",
    "## Introduction\n",
    "\n",
    "Many people are liking to start their business smartly in a good place of a such big city like Toronto. But most of them failed to that simply because they do not have an accurate and detailed information about population, cultural decomposition of this big city.\n",
    "In this study, I will target these people and help them based on the culture and the frequencies of venues which zone of Toronto is more suitable for their business whatever it want to be. For example for opening a bar, in which part they will have more sell. For opening a museum or zoom which part they have more visitor or has more younger generation. They can also predict from each part of Toronto some kind of cultural trends.\n",
    "If you consider this analysis before starting your business they will be definitely more wealth and successful.\n",
    "So, you will save a lot of energy and money at the end.\n"
   ]
  },
  {
   "cell_type": "markdown",
   "metadata": {},
   "source": [
    "## Description\n",
    "\n",
    "Based on available data from data sources like Foursquare, I will derive the number of venues belonging to each postal code and neighborhood of Toronto. So, after that I will have a list of venues with its geographical data like latitudes and longitudes. Based on that I can easily show you the location of each venue on a map.\n",
    "After that, with the power of data analysis packages like Pandas, I will sort out the venue list and gave you some basics information about the frequency of each venue categories in the Toronto city. Interestingly, using that I will make the city into five zones based on the frequencies of each venue category. Then you can very easily see how many percents of each venue belongs to which city zone and based on that you will understand the culture of that zone. This tremendously would help to decide wisely where you can start your business.     \n",
    "\n"
   ]
  },
  {
   "cell_type": "code",
   "execution_count": null,
   "metadata": {},
   "outputs": [],
   "source": []
  }
 ],
 "metadata": {
  "kernelspec": {
   "display_name": "Python 2",
   "language": "python",
   "name": "python2"
  },
  "language_info": {
   "codemirror_mode": {
    "name": "ipython",
    "version": 2
   },
   "file_extension": ".py",
   "mimetype": "text/x-python",
   "name": "python",
   "nbconvert_exporter": "python",
   "pygments_lexer": "ipython2",
   "version": "2.7.16"
  }
 },
 "nbformat": 4,
 "nbformat_minor": 2
}
